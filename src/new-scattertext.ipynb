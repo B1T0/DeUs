{
 "cells": [
  {
   "cell_type": "markdown",
   "metadata": {},
   "source": [
    "# Scattertext für mich"
   ]
  },
  {
   "cell_type": "code",
   "execution_count": 1,
   "metadata": {
    "collapsed": true
   },
   "outputs": [],
   "source": [
    "import numpy as np\n",
    "import tensorflow as tf\n",
    "import model_cnn\n",
    "import preprocessing_classification as pre_c\n",
    "np.set_printoptions(threshold=np.nan)\n",
    "%matplotlib inline\n",
    "import matplotlib.pyplot as plt\n",
    "import pandas as pd\n",
    "import os, glob"
   ]
  },
  {
   "cell_type": "code",
   "execution_count": 2,
   "metadata": {},
   "outputs": [
    {
     "name": "stdout",
     "output_type": "stream",
     "text": [
      "INFO:tensorflow:Restoring parameters from ../resources/1511967049/saves/cnn.ckpt-00009384\n",
      "cnn_classifier restored\n"
     ]
    }
   ],
   "source": [
    "sess = tf.InteractiveSession()\n",
    "\n",
    "text_length = 1000\n",
    "num_authors = 5\n",
    "input_cnn = tf.placeholder(tf.float32, [None, len(pre_c.alphabet), text_length, 1], name=\"input_x\")\n",
    "with tf.variable_scope(\"cnn\"):\n",
    "    cnn_logits, cnn_variables, _ = model_cnn.inference(\n",
    "            input_x=input_cnn, keep_prob=1.0, num_authors=num_authors)\n",
    "known_vars = []\n",
    "known_vars = tf.global_variables()\n",
    "saver = tf.train.Saver(var_list=known_vars)\n",
    "saver.restore(sess, \"../resources/1511967049/saves/cnn.ckpt-00009384\")\n",
    "print(\"cnn_classifier restored\")"
   ]
  },
  {
   "cell_type": "markdown",
   "metadata": {},
   "source": [
    "## Vergleich von Filter 152 und 42"
   ]
  },
  {
   "cell_type": "code",
   "execution_count": 3,
   "metadata": {
    "collapsed": true
   },
   "outputs": [],
   "source": [
    "n = 7"
   ]
  },
  {
   "cell_type": "code",
   "execution_count": 4,
   "metadata": {
    "collapsed": true
   },
   "outputs": [],
   "source": [
    "ngram_act_dict = {}"
   ]
  },
  {
   "cell_type": "code",
   "execution_count": 5,
   "metadata": {
    "collapsed": true
   },
   "outputs": [],
   "source": [
    "activations_file_list = [\"../resources/activations-five-authors/TrainSet-five_authors.txt-activations-\"+str(i)+\".npz\" for i in range(35)]\n",
    "text_file_list = [\"../resources/activations-five-authors/TrainSet-five_authors.txt-texts-\"+str(i)+\".txt\" for i in range(35)]\n",
    "zipped = zip(activations_file_list, text_file_list)"
   ]
  },
  {
   "cell_type": "code",
   "execution_count": 6,
   "metadata": {
    "scrolled": true
   },
   "outputs": [
    {
     "name": "stdout",
     "output_type": "stream",
     "text": [
      "1 von 35 Dateien ausgelesen.\n",
      "2 von 35 Dateien ausgelesen.\n",
      "3 von 35 Dateien ausgelesen.\n",
      "4 von 35 Dateien ausgelesen.\n",
      "5 von 35 Dateien ausgelesen.\n",
      "6 von 35 Dateien ausgelesen.\n",
      "7 von 35 Dateien ausgelesen.\n",
      "8 von 35 Dateien ausgelesen.\n",
      "9 von 35 Dateien ausgelesen.\n",
      "10 von 35 Dateien ausgelesen.\n",
      "11 von 35 Dateien ausgelesen.\n",
      "12 von 35 Dateien ausgelesen.\n",
      "13 von 35 Dateien ausgelesen.\n",
      "14 von 35 Dateien ausgelesen.\n",
      "15 von 35 Dateien ausgelesen.\n",
      "16 von 35 Dateien ausgelesen.\n",
      "17 von 35 Dateien ausgelesen.\n",
      "18 von 35 Dateien ausgelesen.\n",
      "19 von 35 Dateien ausgelesen.\n",
      "20 von 35 Dateien ausgelesen.\n",
      "21 von 35 Dateien ausgelesen.\n",
      "22 von 35 Dateien ausgelesen.\n",
      "23 von 35 Dateien ausgelesen.\n",
      "24 von 35 Dateien ausgelesen.\n",
      "25 von 35 Dateien ausgelesen.\n",
      "26 von 35 Dateien ausgelesen.\n",
      "27 von 35 Dateien ausgelesen.\n",
      "28 von 35 Dateien ausgelesen.\n",
      "29 von 35 Dateien ausgelesen.\n",
      "30 von 35 Dateien ausgelesen.\n",
      "31 von 35 Dateien ausgelesen.\n",
      "32 von 35 Dateien ausgelesen.\n",
      "33 von 35 Dateien ausgelesen.\n",
      "34 von 35 Dateien ausgelesen.\n",
      "35 von 35 Dateien ausgelesen.\n"
     ]
    }
   ],
   "source": [
    "ctr = 0\n",
    "for acts_file, texts_file in zipped:\n",
    "    logits = np.load(acts_file)['logits']\n",
    "    filt = np.where(logits[:,0] == logits[:,1])\n",
    "    acts = np.load(acts_file)['act_7'].reshape(-1, 980, 256)[filt]\n",
    "    with open(texts_file, mode='r') as opened_texts:\n",
    "        texts = np.array(opened_texts.read().split('\\n')[:-1])[filt]\n",
    "    for text_i, text in enumerate(texts):\n",
    "        for char_i in range(1, 20):\n",
    "            ngram = text[char_i:char_i+n]\n",
    "            if ngram not in ngram_act_dict:\n",
    "                ngram_act_dict[ngram] = [[0],[0]]\n",
    "            ngram_act_dict[ngram][0].append(np.mean(acts[text_i,0:char_i,42]))\n",
    "            ngram_act_dict[ngram][1].append(np.mean(acts[text_i,0:char_i,152]))\n",
    "        for char_i in range(20, len(text)-n):\n",
    "            ngram = text[char_i:char_i+n]\n",
    "            if ngram not in ngram_act_dict:\n",
    "                ngram_act_dict[ngram] = [[0],[0]]\n",
    "            ngram_act_dict[ngram][0].append(np.mean(acts[text_i,char_i-20:char_i,42]))\n",
    "            ngram_act_dict[ngram][1].append(np.mean(acts[text_i,char_i-20:char_i,152]))\n",
    "    ctr += 1    \n",
    "    print(\"{} von {} Dateien ausgelesen.\".format(ctr,len(activations_file_list)))"
   ]
  },
  {
   "cell_type": "code",
   "execution_count": 7,
   "metadata": {
    "collapsed": true
   },
   "outputs": [],
   "source": [
    "ngram_mean_act_dict = {}\n",
    "for ngram in ngram_act_dict:\n",
    "    ngram_mean_act_dict[ngram] = [np.mean(np.array(a)) for a in ngram_act_dict[ngram]]"
   ]
  },
  {
   "cell_type": "code",
   "execution_count": 8,
   "metadata": {
    "collapsed": true,
    "scrolled": true
   },
   "outputs": [],
   "source": [
    "arr = np.array([ngram_mean_act_dict[ngram] for ngram in ngram_mean_act_dict.keys()])"
   ]
  },
  {
   "cell_type": "code",
   "execution_count": 9,
   "metadata": {
    "collapsed": true
   },
   "outputs": [],
   "source": [
    "df = pd.DataFrame(arr, index=ngram_mean_act_dict.keys(), columns=[\"filt_42\", \"filt_152\"])"
   ]
  },
  {
   "cell_type": "code",
   "execution_count": 10,
   "metadata": {
    "collapsed": true
   },
   "outputs": [],
   "source": [
    "df.to_csv('ngram_mean_act_' + str(n) + '.csv')"
   ]
  },
  {
   "cell_type": "markdown",
   "metadata": {},
   "source": [
    "## Visualization"
   ]
  },
  {
   "cell_type": "code",
   "execution_count": 11,
   "metadata": {
    "scrolled": true
   },
   "outputs": [
    {
     "data": {
      "text/plain": [
       "<matplotlib.axes._subplots.AxesSubplot at 0x7f3630b321d0>"
      ]
     },
     "execution_count": 11,
     "metadata": {},
     "output_type": "execute_result"
    },
    {
     "data": {
      "image/png": "[encoded data removed]",
      "text/plain": [
       "<matplotlib.figure.Figure at 0x7f3630727b38>"
      ]
     },
     "metadata": {},
     "output_type": "display_data"
    }
   ],
   "source": [
    "df.plot.scatter(x='filt_42', y='filt_152', s=1, loglog=False, grid=True)"
   ]
  },
  {
   "cell_type": "code",
   "execution_count": 12,
   "metadata": {
    "scrolled": true
   },
   "outputs": [
    {
     "name": "stderr",
     "output_type": "stream",
     "text": [
      "/home/rcug/.conda/envs/DeepUnderstanding/lib/python3.6/site-packages/ipykernel_launcher.py:1: UserWarning: Boolean Series key will be reindexed to match DataFrame index.\n",
      "  \"\"\"Entry point for launching an IPython kernel.\n"
     ]
    },
    {
     "data": {
      "text/plain": [
       "<matplotlib.axes._subplots.AxesSubplot at 0x7f3630b4ff98>"
      ]
     },
     "execution_count": 12,
     "metadata": {},
     "output_type": "execute_result"
    },
    {
     "data": {
      "image/png": "[encoded data removed]",
      "text/plain": [
       "<matplotlib.figure.Figure at 0x7f3630acf160>"
      ]
     },
     "metadata": {},
     "output_type": "display_data"
    }
   ],
   "source": [
    "df[df.filt_42 > 0 ][df.filt_152 > 0].plot.hist(alpha=0.5, bins=100, logy=True)"
   ]
  },
  {
   "cell_type": "markdown",
   "metadata": {},
   "source": [
    "## Wortlisten"
   ]
  },
  {
   "cell_type": "code",
   "execution_count": 13,
   "metadata": {
    "scrolled": true
   },
   "outputs": [
    {
     "data": {
      "text/html": [
       "<div>\n",
       "<style scoped>\n",
       "    .dataframe tbody tr th:only-of-type {\n",
       "        vertical-align: middle;\n",
       "    }\n",
       "\n",
       "    .dataframe tbody tr th {\n",
       "        vertical-align: top;\n",
       "    }\n",
       "\n",
       "    .dataframe thead th {\n",
       "        text-align: right;\n",
       "    }\n",
       "</style>\n",
       "<table border=\"1\" class=\"dataframe\">\n",
       "  <thead>\n",
       "    <tr style=\"text-align: right;\">\n",
       "      <th></th>\n",
       "      <th>index Top _42</th>\n",
       "      <th>filt_42</th>\n",
       "      <th>index Top _152</th>\n",
       "      <th>filt_152</th>\n",
       "    </tr>\n",
       "  </thead>\n",
       "  <tbody>\n",
       "    <tr>\n",
       "      <th>0</th>\n",
       "      <td>e, he,</td>\n",
       "      <td>0.291002</td>\n",
       "      <td>nzen. D</td>\n",
       "      <td>0.477913</td>\n",
       "    </tr>\n",
       "    <tr>\n",
       "      <th>1</th>\n",
       "      <td>he, he,</td>\n",
       "      <td>0.262942</td>\n",
       "      <td>inz spr</td>\n",
       "      <td>0.476679</td>\n",
       "    </tr>\n",
       "    <tr>\n",
       "      <th>2</th>\n",
       "      <td>, he, h</td>\n",
       "      <td>0.257629</td>\n",
       "      <td>z spran</td>\n",
       "      <td>0.476173</td>\n",
       "    </tr>\n",
       "    <tr>\n",
       "      <th>3</th>\n",
       "      <td>he, he</td>\n",
       "      <td>0.253317</td>\n",
       "      <td>nz spra</td>\n",
       "      <td>0.475181</td>\n",
       "    </tr>\n",
       "    <tr>\n",
       "      <th>4</th>\n",
       "      <td>m, so,</td>\n",
       "      <td>0.249329</td>\n",
       "      <td>rinz sp</td>\n",
       "      <td>0.474882</td>\n",
       "    </tr>\n",
       "    <tr>\n",
       "      <th>5</th>\n",
       "      <td>, so, d</td>\n",
       "      <td>0.246213</td>\n",
       "      <td>inzen.</td>\n",
       "      <td>0.471814</td>\n",
       "    </tr>\n",
       "    <tr>\n",
       "      <th>6</th>\n",
       "      <td>he, Ah</td>\n",
       "      <td>0.240648</td>\n",
       "      <td>nzen. M</td>\n",
       "      <td>0.470221</td>\n",
       "    </tr>\n",
       "    <tr>\n",
       "      <th>7</th>\n",
       "      <td>He, he,</td>\n",
       "      <td>0.240263</td>\n",
       "      <td>inz bes</td>\n",
       "      <td>0.466524</td>\n",
       "    </tr>\n",
       "    <tr>\n",
       "      <th>8</th>\n",
       "      <td>he, Ahr</td>\n",
       "      <td>0.238715</td>\n",
       "      <td>rinzen.</td>\n",
       "      <td>0.464752</td>\n",
       "    </tr>\n",
       "    <tr>\n",
       "      <th>9</th>\n",
       "      <td>, he, A</td>\n",
       "      <td>0.235837</td>\n",
       "      <td>zen eri</td>\n",
       "      <td>0.458877</td>\n",
       "    </tr>\n",
       "    <tr>\n",
       "      <th>10</th>\n",
       "      <td>! He, h</td>\n",
       "      <td>0.235718</td>\n",
       "      <td>rinz. »</td>\n",
       "      <td>0.445372</td>\n",
       "    </tr>\n",
       "    <tr>\n",
       "      <th>11</th>\n",
       "      <td>e, Ahre</td>\n",
       "      <td>0.235562</td>\n",
       "      <td>Prinz.</td>\n",
       "      <td>0.442481</td>\n",
       "    </tr>\n",
       "    <tr>\n",
       "      <th>12</th>\n",
       "      <td>, hm, s</td>\n",
       "      <td>0.234498</td>\n",
       "      <td>Prinz.</td>\n",
       "      <td>0.436522</td>\n",
       "    </tr>\n",
       "    <tr>\n",
       "      <th>13</th>\n",
       "      <td>hm, so</td>\n",
       "      <td>0.233063</td>\n",
       "      <td>z war u</td>\n",
       "      <td>0.436076</td>\n",
       "    </tr>\n",
       "    <tr>\n",
       "      <th>14</th>\n",
       "      <td>, Ahren</td>\n",
       "      <td>0.232712</td>\n",
       "      <td>nzen er</td>\n",
       "      <td>0.435814</td>\n",
       "    </tr>\n",
       "    <tr>\n",
       "      <th>15</th>\n",
       "      <td>m er, m</td>\n",
       "      <td>0.232297</td>\n",
       "      <td>rinz wa</td>\n",
       "      <td>0.434603</td>\n",
       "    </tr>\n",
       "    <tr>\n",
       "      <th>16</th>\n",
       "      <td>hm, so,</td>\n",
       "      <td>0.228456</td>\n",
       "      <td>inz war</td>\n",
       "      <td>0.431664</td>\n",
       "    </tr>\n",
       "    <tr>\n",
       "      <th>17</th>\n",
       "      <td>e, sie,</td>\n",
       "      <td>0.226330</td>\n",
       "      <td>nz besa</td>\n",
       "      <td>0.430828</td>\n",
       "    </tr>\n",
       "    <tr>\n",
       "      <th>18</th>\n",
       "      <td>ß er, b</td>\n",
       "      <td>0.225852</td>\n",
       "      <td>nz erwa</td>\n",
       "      <td>0.427918</td>\n",
       "    </tr>\n",
       "    <tr>\n",
       "      <th>19</th>\n",
       "      <td>, so, s</td>\n",
       "      <td>0.222032</td>\n",
       "      <td>z erwar</td>\n",
       "      <td>0.427918</td>\n",
       "    </tr>\n",
       "  </tbody>\n",
       "</table>\n",
       "</div>"
      ],
      "text/plain": [
       "   index Top _42   filt_42 index Top _152  filt_152\n",
       "0        e, he,   0.291002        nzen. D  0.477913\n",
       "1        he, he,  0.262942        inz spr  0.476679\n",
       "2        , he, h  0.257629        z spran  0.476173\n",
       "3         he, he  0.253317        nz spra  0.475181\n",
       "4        m, so,   0.249329        rinz sp  0.474882\n",
       "5        , so, d  0.246213        inzen.   0.471814\n",
       "6         he, Ah  0.240648        nzen. M  0.470221\n",
       "7        He, he,  0.240263        inz bes  0.466524\n",
       "8        he, Ahr  0.238715        rinzen.  0.464752\n",
       "9        , he, A  0.235837        zen eri  0.458877\n",
       "10       ! He, h  0.235718        rinz. »  0.445372\n",
       "11       e, Ahre  0.235562        Prinz.   0.442481\n",
       "12       , hm, s  0.234498         Prinz.  0.436522\n",
       "13        hm, so  0.233063        z war u  0.436076\n",
       "14       , Ahren  0.232712        nzen er  0.435814\n",
       "15       m er, m  0.232297        rinz wa  0.434603\n",
       "16       hm, so,  0.228456        inz war  0.431664\n",
       "17       e, sie,  0.226330        nz besa  0.430828\n",
       "18       ß er, b  0.225852        nz erwa  0.427918\n",
       "19       , so, s  0.222032        z erwar  0.427918"
      ]
     },
     "execution_count": 13,
     "metadata": {},
     "output_type": "execute_result"
    }
   ],
   "source": [
    "# Top _42\n",
    "df.nlargest(20, 'filt_42').reset_index()[['index','filt_42']].join(df.nlargest(20, 'filt_152').reset_index()[['index','filt_152']], lsuffix=' Top _42', rsuffix=' Top _152')"
   ]
  }
 ],
 "metadata": {
  "kernelspec": {
   "display_name": "Python 3",
   "language": "python",
   "name": "python3"
  },
  "language_info": {
   "codemirror_mode": {
    "name": "ipython",
    "version": 3
   },
   "file_extension": ".py",
   "mimetype": "text/x-python",
   "name": "python",
   "nbconvert_exporter": "python",
   "pygments_lexer": "ipython3",
   "version": "3.6.2"
  }
 },
 "nbformat": 4,
 "nbformat_minor": 2
}
