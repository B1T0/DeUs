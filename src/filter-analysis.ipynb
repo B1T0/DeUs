{
 "cells": [
  {
   "cell_type": "markdown",
   "metadata": {},
   "source": [
    "# Analyse der Filter"
   ]
  },
  {
   "cell_type": "code",
   "execution_count": 1,
   "metadata": {
    "collapsed": true
   },
   "outputs": [],
   "source": [
    "import numpy as np\n",
    "import tensorflow as tf\n",
    "import model_cnn\n",
    "import preprocessing_classification as pre_c\n",
    "np.set_printoptions(threshold=np.nan)\n",
    "%matplotlib inline\n",
    "import matplotlib.pyplot as plt\n",
    "import matplotlib\n",
    "from mpl_toolkits.mplot3d import Axes3D\n",
    "from sklearn.decomposition import PCA\n",
    "import pandas as pd\n",
    "import seaborn as sns\n",
    "import os, glob"
   ]
  },
  {
   "cell_type": "code",
   "execution_count": 2,
   "metadata": {},
   "outputs": [
    {
     "name": "stdout",
     "output_type": "stream",
     "text": [
      "INFO:tensorflow:Restoring parameters from ../resources/1511967049/saves/cnn.ckpt-00009384\n",
      "cnn_classifier restored\n"
     ]
    }
   ],
   "source": [
    "sess = tf.InteractiveSession()\n",
    "\n",
    "text_length = 1000\n",
    "num_authors = 5\n",
    "input_cnn = tf.placeholder(tf.float32, [None, len(pre_c.alphabet), text_length, 1], name=\"input_x\")\n",
    "with tf.variable_scope(\"cnn\"):\n",
    "    cnn_logits, cnn_variables, _ = model_cnn.inference(\n",
    "            input_x=input_cnn, keep_prob=1.0, num_authors=num_authors)\n",
    "known_vars = []\n",
    "known_vars = tf.global_variables()\n",
    "saver = tf.train.Saver(var_list=known_vars)\n",
    "saver.restore(sess, \"../resources/1511967049/saves/cnn.ckpt-00009384\")\n",
    "print(\"cnn_classifier restored\")"
   ]
  },
  {
   "cell_type": "code",
   "execution_count": 3,
   "metadata": {
    "collapsed": true
   },
   "outputs": [],
   "source": [
    "w_1 = sess.run('cnn/conv-1/W:0')\n",
    "b_1 = sess.run('cnn/conv-1/b:0')\n",
    "w_2 = sess.run('cnn/conv-2/W:0')\n",
    "b_2 = sess.run('cnn/conv-2/b:0')\n",
    "w_3 = sess.run('cnn/conv-3/W:0')\n",
    "b_3 = sess.run('cnn/conv-3/b:0')\n",
    "w_4 = sess.run('cnn/conv-4/W:0')\n",
    "b_4 = sess.run('cnn/conv-4/b:0')\n",
    "w_5 = sess.run('cnn/conv-5/W:0')\n",
    "b_5 = sess.run('cnn/conv-5/b:0')\n",
    "w_6 = sess.run('cnn/conv-6/W:0')\n",
    "b_6 = sess.run('cnn/conv-6/b:0')\n",
    "w_fc = sess.run('cnn/fc/W-fc:0')\n",
    "b_fc = sess.run('cnn/fc/b-fc:0')\n",
    "weights = [w_1, w_2, w_3, w_4, w_5, w_6, w_fc]\n",
    "biases = [b_1, b_2, b_3, b_4, b_5, b_6, b_fc]"
   ]
  },
  {
   "cell_type": "code",
   "execution_count": 4,
   "metadata": {
    "collapsed": true
   },
   "outputs": [],
   "source": [
    "for wi,w in enumerate(weights):\n",
    "    weights[wi] = np.squeeze(w)\n",
    "weights[0] = np.transpose(weights[0], [1,0,2])"
   ]
  },
  {
   "cell_type": "code",
   "execution_count": 5,
   "metadata": {
    "collapsed": true
   },
   "outputs": [],
   "source": [
    "weights[-1] = np.reshape(weights[-1], [980,256,5])"
   ]
  },
  {
   "cell_type": "code",
   "execution_count": 6,
   "metadata": {
    "collapsed": true
   },
   "outputs": [],
   "source": [
    "biases = [np.zeros(4)] + biases"
   ]
  },
  {
   "cell_type": "code",
   "execution_count": 7,
   "metadata": {
    "collapsed": true
   },
   "outputs": [],
   "source": [
    "layers = [input_cnn.shape[1:3][::-1]] + [v.shape[-2:] for v in cnn_variables[:-1]] + [cnn_logits.shape[1:2]]"
   ]
  },
  {
   "cell_type": "code",
   "execution_count": 8,
   "metadata": {
    "collapsed": true
   },
   "outputs": [],
   "source": [
    "# RAM-sparende Implementierung\n",
    "\n",
    "def get_NR_matrices(start = np.array([0.0,1.0,0.0,0.0,0.0]), startlayer = 0, numlayers=100):\n",
    "    NR_matrices = []\n",
    "    NR_matrices.append(start)\n",
    "    if startlayer < 1:\n",
    "        NR_matrices.append(np.sum(weights[-1]*NR_matrices[-1], axis=2))\n",
    "        if numlayers < 3:\n",
    "            return NR_matrices\n",
    "    \n",
    "    for i in range(2+startlayer,len(layers)):\n",
    "        nr_pre = np.zeros([layers[-(i+1)][0], layers[-(i+1)][1]])\n",
    "        ws = np.pad(weights[-i], ((0,int(layers[-(i+1)][0]-weights[-i].shape[0])),(0,0),(0,0)), mode='constant')\n",
    "        print(ws.shape)\n",
    "        for k in range(NR_matrices[-1].shape[0]):\n",
    "            nr_pre = np.add(nr_pre, np.sum(np.multiply(np.roll(ws, shift=k, axis=0), NR_matrices[-1][k,:]), axis=2))\n",
    "        NR_matrices.append(nr_pre)\n",
    "        if numlayers == i+1-startlayer:\n",
    "            return NR_matrices\n",
    "    return NR_matrices"
   ]
  },
  {
   "cell_type": "code",
   "execution_count": 9,
   "metadata": {
    "collapsed": true
   },
   "outputs": [],
   "source": [
    "# NR_ms = []\n",
    "# for i in range(5):\n",
    "#     start = np.zeros(5)\n",
    "#     start[i] = 1\n",
    "#     NR_ms.append(get_NR_matrices(start))"
   ]
  },
  {
   "cell_type": "code",
   "execution_count": 10,
   "metadata": {
    "collapsed": true
   },
   "outputs": [],
   "source": [
    "# for i, NR_m in enumerate(NR_ms):\n",
    "#     np.savez_compressed(\"../resources/NeuronRank/NeuronRank_five-authors-\"+str(i), layer1=NR_m[0], layer2=NR_m[1], layer3=NR_m[2], layer4=NR_m[3], layer5=NR_m[4], layer6=NR_m[5], layer7=NR_m[6], layer8=NR_m[7])"
   ]
  },
  {
   "cell_type": "code",
   "execution_count": 11,
   "metadata": {},
   "outputs": [
    {
     "name": "stdout",
     "output_type": "stream",
     "text": [
      "['layer1', 'layer2', 'layer3', 'layer4', 'layer5', 'layer6', 'layer7', 'layer8']\n",
      "['layer1', 'layer2', 'layer3', 'layer4', 'layer5', 'layer6', 'layer7', 'layer8']\n",
      "['layer1', 'layer2', 'layer3', 'layer4', 'layer5', 'layer6', 'layer7', 'layer8']\n",
      "['layer1', 'layer2', 'layer3', 'layer4', 'layer5', 'layer6', 'layer7', 'layer8']\n",
      "['layer1', 'layer2', 'layer3', 'layer4', 'layer5', 'layer6', 'layer7', 'layer8']\n"
     ]
    }
   ],
   "source": [
    "NR_ms = [[],[],[],[],[]]\n",
    "for file in glob.glob(\"../resources/NeuronRank/NeuronRank_five-authors*\"):\n",
    "    loaded = np.load(file)\n",
    "    print(loaded.keys())\n",
    "    for i in range(8):\n",
    "        NR_ms[int(file[-5])].append(loaded[\"layer\"+str(i+1)])"
   ]
  },
  {
   "cell_type": "code",
   "execution_count": 12,
   "metadata": {
    "collapsed": true
   },
   "outputs": [],
   "source": [
    "def get_info_about_NR_vecs(NR, layer):\n",
    "\n",
    "    neuronvectors = np.stack(arrays=[NR[0][layer], NR[1][layer], NR[2][layer], NR[3][layer], NR[4][layer]], axis=0)\n",
    "\n",
    "    plt.close('all')\n",
    "    fig = plt.figure(figsize=[20,10])\n",
    "    ax = fig.add_subplot(111)\n",
    "    cax = ax.matshow(np.repeat(np.sum(neuronvectors, axis=1), 10, axis=0), cmap='bwr')\n",
    "    ax.xaxis.set_ticks_position(position='bottom')\n",
    "    plt.title(\"Sum of Neurons w/ same Filter - Matrix - Layer \" + str(layer))\n",
    "    fig.colorbar(cax, orientation='horizontal')\n",
    "    plt.show()"
   ]
  },
  {
   "cell_type": "code",
   "execution_count": 13,
   "metadata": {
    "scrolled": false
   },
   "outputs": [
    {
     "data": {
      "image/png": "[encoded data removed]",
      "text/plain": [
       "<matplotlib.figure.Figure at 0x7f29b8b19390>"
      ]
     },
     "metadata": {},
     "output_type": "display_data"
    }
   ],
   "source": [
    "get_info_about_NR_vecs(NR_ms, 1)"
   ]
  },
  {
   "cell_type": "code",
   "execution_count": 14,
   "metadata": {},
   "outputs": [
    {
     "data": {
      "text/plain": [
       "<seaborn.matrix.ClusterGrid at 0x7f296c2776a0>"
      ]
     },
     "execution_count": 14,
     "metadata": {},
     "output_type": "execute_result"
    },
    {
     "data": {
      "image/png": "[encoded data removed]",
      "text/plain": [
       "<matplotlib.figure.Figure at 0x7f296c277908>"
      ]
     },
     "metadata": {},
     "output_type": "display_data"
    }
   ],
   "source": [
    "NR = NR_ms\n",
    "layer = 1\n",
    "neuronvectors = np.stack(arrays=[NR[0][layer], NR[1][layer], NR[2][layer], NR[3][layer], NR[4][layer]], axis=0)\n",
    "sns.clustermap(np.sum(neuronvectors, axis=1), cmap='bwr')"
   ]
  },
  {
   "cell_type": "markdown",
   "metadata": {},
   "source": [
    "## Betrachtung der Aktivierungen"
   ]
  },
  {
   "cell_type": "code",
   "execution_count": 15,
   "metadata": {
    "collapsed": true
   },
   "outputs": [],
   "source": [
    "activations_file_list = [\"../resources/activations-five-authors/TrainSet-five_authors.txt-activations-\"+str(i)+\".npz\" for i in range(35)]\n",
    "text_file_list = [\"../resources/activations-five-authors/TrainSet-five_authors.txt-texts-\"+str(i)+\".txt\" for i in range(35)]"
   ]
  },
  {
   "cell_type": "code",
   "execution_count": 16,
   "metadata": {
    "collapsed": true
   },
   "outputs": [],
   "source": [
    "layer = 1\n",
    "stack_for_filter = np.stack(arrays=[NR[0][layer], NR[1][layer], NR[2][layer], NR[3][layer], NR[4][layer]], axis=0)\n",
    "\n",
    "stack_for_filter_argsorted_layer = np.copy(stack_for_filter)\n",
    "for i, layer in enumerate(stack_for_filter):\n",
    "    stack_for_filter_argsorted_layer[i] = np.argsort(layer, axis=None).reshape(layer.shape)\n",
    "\n",
    "pos_filter = [np.where(x > 0) for x in stack_for_filter]\n",
    "neg_filter = [np.where(x < 0) for x in stack_for_filter]\n",
    "first_quarter_filter  = [np.where(x < np.max(x[i])*0.10) for i, x in enumerate(stack_for_filter_argsorted_layer)]\n",
    "fourth_quarter_filter = [np.where(x > np.max(x[i])*0.90) for i, x in enumerate(stack_for_filter_argsorted_layer)]\n",
    "\n",
    "filter_list = [pos_filter, neg_filter, first_quarter_filter, fourth_quarter_filter]"
   ]
  },
  {
   "cell_type": "code",
   "execution_count": 17,
   "metadata": {
    "scrolled": false
   },
   "outputs": [],
   "source": [
    "means = np.zeros([1,4,5])\n",
    "ac_7s = np.zeros([1,980,256])\n",
    "logits = np.zeros([1,2])\n",
    "texts = []\n",
    "for act_file_path, txt_file_path in zip(activations_file_list, text_file_list):\n",
    "    log = np.load(act_file_path)['logits']\n",
    "    filt = np.where(log[:,0] == log[:,1])\n",
    "    act = np.load(act_file_path)['act_7'].reshape(-1, 980, 256)[filt]\n",
    "    log = log[filt]\n",
    "    \n",
    "    txt = np.array(open(txt_file_path).read().split('\\n'))[filt][0:len(act)]\n",
    "    texts += list(txt)\n",
    "\n",
    "    ac_7s = np.append(ac_7s, act, axis=0)\n",
    "    means = np.append(means, np.array([[[np.mean(a[f[f_i]]) for f_i in range(5)] for f in filter_list] for a in act]), axis=0)\n",
    "    logits = np.append(logits, log, axis=0)\n",
    "    \n",
    "ac_7s = ac_7s[1:,:,:]\n",
    "means = means[1:,:,:]\n",
    "logits = logits[1:,:]"
   ]
  },
  {
   "cell_type": "code",
   "execution_count": 18,
   "metadata": {
    "scrolled": false
   },
   "outputs": [
    {
     "data": {
      "text/plain": [
       "<seaborn.matrix.ClusterGrid at 0x7f296c115940>"
      ]
     },
     "execution_count": 18,
     "metadata": {},
     "output_type": "execute_result"
    },
    {
     "data": {
      "image/png": "[encoded data removed]",
      "text/plain": [
       "<matplotlib.figure.Figure at 0x7f296c115f60>"
      ]
     },
     "metadata": {},
     "output_type": "display_data"
    }
   ],
   "source": [
    "act_sums = []\n",
    "for i in range(5):\n",
    "    filt = np.where(logits[:,0] == i)\n",
    "    act_sums.append(np.sum(np.sum(ac_7s[filt], axis=0), axis=0))\n",
    "sns.clustermap(np.array(act_sums), cmap='bwr')"
   ]
  }
 ],
 "metadata": {
  "kernelspec": {
   "display_name": "Python 3",
   "language": "python",
   "name": "python3"
  },
  "language_info": {
   "codemirror_mode": {
    "name": "ipython",
    "version": 3
   },
   "file_extension": ".py",
   "mimetype": "text/x-python",
   "name": "python",
   "nbconvert_exporter": "python",
   "pygments_lexer": "ipython3",
   "version": "3.5.4"
  }
 },
 "nbformat": 4,
 "nbformat_minor": 2
}
